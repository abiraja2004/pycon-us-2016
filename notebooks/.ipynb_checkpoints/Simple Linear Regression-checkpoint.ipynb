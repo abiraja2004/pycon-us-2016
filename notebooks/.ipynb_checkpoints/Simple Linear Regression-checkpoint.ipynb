{
 "cells": [
  {
   "cell_type": "code",
   "execution_count": 54,
   "metadata": {
    "collapsed": false
   },
   "outputs": [
    {
     "name": "stdout",
     "output_type": "stream",
     "text": [
      "1.00054 1.01208\n"
     ]
    },
    {
     "data": {
      "image/png": "[encoded data removed]",
      "text/plain": [
       "<matplotlib.figure.Figure at 0x1117b8588>"
      ]
     },
     "metadata": {},
     "output_type": "display_data"
    }
   ],
   "source": [
    "%matplotlib inline\n",
    "\n",
    "# Using gradient descent for linear regression\n",
    "# Adapted from https://spin.atomicobject.com/2014/06/24/gradient-descent-linear-regression/\n",
    "\n",
    "# We will attempt to predict the college admission test score based\n",
    "# on the high school math score (following on Chapter 3 of \"Doing Math with Python\")\n",
    "\n",
    "# Known data\n",
    "x_data = [83, 85, 84, 96, 94, 86, 87, 97, 97, 85]\n",
    "y_data = [85, 87, 86, 97, 96, 88, 89, 98, 98, 87]\n",
    "\n",
    "\n",
    "import matplotlib.pyplot as plt\n",
    "plt.plot(x_data, y_data, 'ro')\n",
    "\n",
    "# Assumed linear model\n",
    "# x = math score in high school\n",
    "# y = admission test score\n",
    "\n",
    "# y = theta_1*x + theta_0\n",
    "def estimate_y(x, theta_0, theta_1):\n",
    "    y_estimated = theta_0 + theta_1*x\n",
    "    return y_estimated\n",
    "\n",
    "def estimate_theta(theta_0_current, theta_1_current, max_iterations=50000):\n",
    "    learning_rate = 0.0001\n",
    "    theta_0_gradient = 0\n",
    "    theta_1_gradient = 0\n",
    "    N = len(x_data)\n",
    "    \n",
    "    for i in range(max_iterations):\n",
    "        for i in range(0, N):\n",
    "            x = x_data[i]\n",
    "            y = y_data[i]\n",
    "            theta_0_gradient = theta_0_gradient + -(2/N) * (y - (theta_1_current * x) + theta_0_current)\n",
    "            theta_1_gradient = theta_1_gradient + -(2/N) * x * (y - ((theta_1_current * x) + theta_0_current))\n",
    "        \n",
    "        new_theta_0 = theta_0_current - (learning_rate * theta_0_gradient)\n",
    "        new_theta_1 = theta_1_current - (learning_rate * theta_1_gradient)\n",
    "        if abs(new_theta_0 - theta_0_current) < 1e-3 or abs(new_theta_1 - theta_1_current) < 1e-3:\n",
    "            break\n",
    "        else:\n",
    "            theta_0_current = new_theta_0\n",
    "            theta_1_current = new_theta_1\n",
    "    return new_theta_0, new_theta_1\n",
    "        \n",
    "theta_0, theta_1 = estimate_theta(1, 1)\n",
    "print(theta_0, theta_1)\n",
    "\n",
    "y_estimated = [estimate_y(x, theta_0, theta_1) for x in x_data]\n",
    "plt.plot(x_data, y_estimated, 'b*')\n",
    "plt.legend(['Actual', 'Estimated'], loc='best')\n",
    "plt.show()\n",
    "\n",
    "\n",
    "\n"
   ]
  },
  {
   "cell_type": "code",
   "execution_count": 1,
   "metadata": {
    "collapsed": false
   },
   "outputs": [
    {
     "data": {
      "text/plain": [
       "n**2/2 + n/2"
      ]
     },
     "execution_count": 1,
     "metadata": {},
     "output_type": "execute_result"
    }
   ],
   "source": [
    "from sympy import summation, Derivative, Symbol\n",
    "n = Symbol('n')\n",
    "summation(n, (n, 1, n))\n"
   ]
  },
  {
   "cell_type": "code",
   "execution_count": null,
   "metadata": {
    "collapsed": true
   },
   "outputs": [],
   "source": []
  }
 ],
 "metadata": {
  "kernelspec": {
   "display_name": "Python 3",
   "language": "python",
   "name": "python3"
  },
  "language_info": {
   "codemirror_mode": {
    "name": "ipython",
    "version": 3
   },
   "file_extension": ".py",
   "mimetype": "text/x-python",
   "name": "python",
   "nbconvert_exporter": "python",
   "pygments_lexer": "ipython3",
   "version": "3.5.1"
  }
 },
 "nbformat": 4,
 "nbformat_minor": 0
}
