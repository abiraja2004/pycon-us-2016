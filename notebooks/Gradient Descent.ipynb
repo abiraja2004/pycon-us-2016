{
 "cells": [
  {
   "cell_type": "code",
   "execution_count": null,
   "metadata": {
    "collapsed": false
   },
   "outputs": [],
   "source": [
    "%matplotlib inline\n",
    "\n",
    "'''\n",
    "grad_descent.py\n",
    "\n",
    "Use gradient descent to find the minimum value of a\n",
    "single variable function. This also checks for the existence\n",
    "of a solution for the equation, f'(x)=0 and plots the intermediate\n",
    "points traversed.\n",
    "'''\n",
    "\n",
    "from sympy import Derivative, Symbol, sympify, solve\n",
    "import matplotlib.pyplot as plt\n",
    "\n",
    "def grad_descent(x0, f1x, x):\n",
    "    # check if f1x=0 has a solution\n",
    "    if not solve(f1x):\n",
    "        print('Cannot continue, solution for {0}=0 does not exist'.format(f1x))\n",
    "        return None\n",
    "    epsilon =  1e-6\n",
    "    step_size = 1e-4\n",
    "    x_old = x0\n",
    "    x_new = x_old - step_size*f1x.subs({x:x_old}).evalf()\n",
    "\n",
    "    # list to store the X values traversed\n",
    "    X_traversed = []\n",
    "    while abs(x_old - x_new) > epsilon:\n",
    "        X_traversed.append(x_new)\n",
    "        x_old = x_new\n",
    "        x_new = x_old-step_size*f1x.subs({x:x_old}).evalf()\n",
    "\n",
    "    return x_new, X_traversed\n",
    "\n",
    "def frange(start, final, interval):\n",
    "\n",
    "    numbers = []\n",
    "    while start < final:\n",
    "        numbers.append(start)\n",
    "        start = start + interval\n",
    "    \n",
    "    return numbers\n",
    "\n",
    "def create_plot(X_traversed, f, var):\n",
    "    # First create the graph of the function itself\n",
    "    x_val = frange(-1, 1, 0.01)\n",
    "    f_val = [f.subs({var:x}) for x in x_val]\n",
    "    plt.plot(x_val, f_val, 'bo')\n",
    "    # calculate the function value at each of the intermediate\n",
    "    # points traversed\n",
    "    f_traversed = [f.subs({var:x}) for x in X_traversed]\n",
    "    plt.plot(X_traversed, f_traversed, 'r.')\n",
    "    plt.legend(['Function', 'Intermediate points'], loc='best')\n",
    "    plt.show()\n",
    "\n",
    "if __name__ == '__main__':\n",
    "\n",
    "    f = input('Enter a function in one variable: ')\n",
    "    var = input('Enter the variable to differentiate with respect to: ')\n",
    "    var0 = float(input('Enter the initial value of the variable: '))\n",
    "    try:\n",
    "        f = sympify(f)\n",
    "    except SympifyError:\n",
    "        print('Invalid function entered')\n",
    "    else:\n",
    "        var = Symbol(var)\n",
    "        d = Derivative(f, var).doit()\n",
    "        var_min, X_traversed = grad_descent(var0, d, var)\n",
    "        if var_min:\n",
    "            print('{0}: {1}'.format(var.name, var_min))\n",
    "            print('Minimum value: {0}'.format(f.subs({var:var_min})))\n",
    "            create_plot(X_traversed, f, var)\n"
   ]
  },
  {
   "cell_type": "code",
   "execution_count": null,
   "metadata": {
    "collapsed": true
   },
   "outputs": [],
   "source": []
  },
  {
   "cell_type": "code",
   "execution_count": null,
   "metadata": {
    "collapsed": true
   },
   "outputs": [],
   "source": []
  },
  {
   "cell_type": "code",
   "execution_count": null,
   "metadata": {
    "collapsed": true
   },
   "outputs": [],
   "source": []
  }
 ],
 "metadata": {
  "kernelspec": {
   "display_name": "Python 3",
   "language": "python",
   "name": "python3"
  },
  "language_info": {
   "codemirror_mode": {
    "name": "ipython",
    "version": 3
   },
   "file_extension": ".py",
   "mimetype": "text/x-python",
   "name": "python",
   "nbconvert_exporter": "python",
   "pygments_lexer": "ipython3",
   "version": "3.5.1"
  }
 },
 "nbformat": 4,
 "nbformat_minor": 0
}
