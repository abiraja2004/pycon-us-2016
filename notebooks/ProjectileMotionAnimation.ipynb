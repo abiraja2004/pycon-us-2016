{
 "cells": [
  {
   "cell_type": "code",
   "execution_count": 4,
   "metadata": {
    "collapsed": false
   },
   "outputs": [
    {
     "name": "stdout",
     "output_type": "stream",
     "text": [
      "Enter the initial velocity (m/s): 25\n",
      "Enter the angle of projection (degrees): 60\n"
     ]
    },
    {
     "data": {
      "image/png": "[encoded data removed]",
      "text/plain": [
       "<matplotlib.figure.Figure at 0x10a92d898>"
      ]
     },
     "metadata": {},
     "output_type": "display_data"
    }
   ],
   "source": [
    "%matplotlib inline\n",
    "\n",
    "#P156: Animating a projectile's projectory\n",
    "'''\n",
    "Animate the trajectory of an object in projectile motion\n",
    "'''\n",
    "from matplotlib import pyplot as plt\n",
    "from matplotlib import animation, rc\n",
    "\n",
    "from IPython.display import HTML\n",
    "\n",
    "import math\n",
    "g = 9.8\n",
    "\n",
    "def get_intervals(u, theta):\n",
    "    t_flight = 2*u*math.sin(theta)/g\n",
    "    intervals = []\n",
    "    start = 0\n",
    "    interval = 0.005\n",
    "    while start < t_flight:\n",
    "        intervals.append(start)\n",
    "        start = start + interval\n",
    "    return intervals\n",
    "\n",
    "def update_position(i, circle, intervals, u, theta):\n",
    "    t = intervals[i]\n",
    "    x = u*math.cos(theta)*t\n",
    "    y = u*math.sin(theta)*t - 0.5*g*t*t\n",
    "    circle.center = x, y\n",
    "    return circle,\n",
    "\n",
    "def create_animation(u, theta):\n",
    "    intervals = get_intervals(u, theta)\n",
    "    xmin = 0\n",
    "    xmax = u*math.cos(theta)*intervals[-1]\n",
    "    ymin = 0\n",
    "    t_max = u*math.sin(theta)/g\n",
    "    ymax = u*math.sin(theta)*t_max - 0.5*g*t_max**2\n",
    "    fig = plt.gcf()\n",
    "    ax = plt.axes(xlim=(xmin, xmax), ylim=(ymin, ymax))\n",
    "    circle = plt.Circle((xmin, ymin), 1.0)\n",
    "    ax.add_patch(circle)\n",
    "    anim = animation.FuncAnimation(fig, update_position,\n",
    "                        fargs=(circle, intervals, u, theta),\n",
    "                        frames=len(intervals), interval=1,\n",
    "                        repeat=False)\n",
    "    #plt.title('Projectile Motion')\n",
    "    #plt.xlabel('X')\n",
    "    #plt.ylabel('Y')\n",
    "    #plt.show()\n",
    "    HTML(anim.to_html5_video())\n",
    "    rc('animation', html='html5')\n",
    "    anim\n",
    "\n",
    "if __name__ == '__main__':\n",
    "    try:\n",
    "        u = float(input('Enter the initial velocity (m/s): '))\n",
    "        theta = float(input('Enter the angle of projection (degrees): '))\n",
    "    except ValueError:\n",
    "        print('You entered an invalid input')\n",
    "    else:\n",
    "        theta = math.radians(theta)\n",
    "        create_animation(u, theta)"
   ]
  },
  {
   "cell_type": "code",
   "execution_count": null,
   "metadata": {
    "collapsed": true
   },
   "outputs": [],
   "source": []
  },
  {
   "cell_type": "code",
   "execution_count": null,
   "metadata": {
    "collapsed": true
   },
   "outputs": [],
   "source": []
  }
 ],
 "metadata": {
  "kernelspec": {
   "display_name": "Python 3",
   "language": "python",
   "name": "python3"
  },
  "language_info": {
   "codemirror_mode": {
    "name": "ipython",
    "version": 3
   },
   "file_extension": ".py",
   "mimetype": "text/x-python",
   "name": "python",
   "nbconvert_exporter": "python",
   "pygments_lexer": "ipython3",
   "version": "3.5.1"
  }
 },
 "nbformat": 4,
 "nbformat_minor": 0
}
