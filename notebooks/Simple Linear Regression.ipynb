{
 "cells": [
  {
   "cell_type": "code",
   "execution_count": 48,
   "metadata": {
    "collapsed": false
   },
   "outputs": [
    {
     "name": "stdout",
     "output_type": "stream",
     "text": [
      "nan nan\n",
      "85 nan\n",
      "87 nan\n",
      "86 nan\n",
      "97 nan\n",
      "96 nan\n",
      "88 nan\n",
      "89 nan\n",
      "98 nan\n",
      "98 nan\n",
      "87 nan\n"
     ]
    }
   ],
   "source": [
    "# Using gradient descent for linear regression\n",
    "# Adapted from https://spin.atomicobject.com/2014/06/24/gradient-descent-linear-regression/\n",
    "\n",
    "# We will attempt to predict the college admission test score based\n",
    "# on the high school math score (Chapter 3 of \"Doing Math with Python\")\n",
    "# Known data\n",
    "x_data = [83, 85, 84, 96, 94, 86, 87, 97, 97, 85]\n",
    "y_data = [85, 87, 86, 97, 96, 88, 89, 98, 98, 87]\n",
    "\n",
    "\n",
    "# Assumed liner model\n",
    "def estimate_y(x, theta_0, theta_1):\n",
    "    y_estimated = theta_0 + theta_1*x\n",
    "    return y_estimated\n",
    "\n",
    "def estimate_theta(theta_0_current, theta_1_current, max_iterations=50000):\n",
    "    learning_rate = 0.001\n",
    "    theta_0_gradient = 0\n",
    "    theta_1_gradient = 0\n",
    "    N = len(x_data)\n",
    "    \n",
    "    for i in range(max_iterations):\n",
    "        \n",
    "        for i in range(0, N):\n",
    "            x = x_data[i]\n",
    "            y = y_data[i]\n",
    "            theta_0_gradient += -(2/N) * (y - (theta_1_current * x) + theta_0_current)\n",
    "            theta_1_gradient += -(2/N) * x * (y - ((theta_1_current * x) + theta_0_current))\n",
    "        \n",
    "        new_theta_0 = theta_0_current - (learning_rate * theta_0_gradient)\n",
    "        new_theta_1 = theta_1_current - (learning_rate * theta_1_gradient)\n",
    "        if abs(new_theta_0 - theta_0_current) < 1e-6 or abs(new_theta_1 - theta_1_current) < 1e-6:\n",
    "            break\n",
    "        else:\n",
    "            theta_0_current = new_theta_0\n",
    "            theta_1_current = new_theta_1\n",
    "    return new_theta_0, new_theta_1\n",
    "        \n",
    "theta_0, theta_1 = estimate_theta(0.0, 0.0, max_iterations=100000)\n",
    "print(theta_0, theta_1)\n",
    "for x, y in zip(x_data, y_data):\n",
    "    print (y, estimate_y(x, theta_0, theta_1))\n",
    "\n",
    "\n",
    "\n"
   ]
  },
  {
   "cell_type": "code",
   "execution_count": null,
   "metadata": {
    "collapsed": true
   },
   "outputs": [],
   "source": []
  }
 ],
 "metadata": {
  "kernelspec": {
   "display_name": "Python 3",
   "language": "python",
   "name": "python3"
  },
  "language_info": {
   "codemirror_mode": {
    "name": "ipython",
    "version": 3
   },
   "file_extension": ".py",
   "mimetype": "text/x-python",
   "name": "python",
   "nbconvert_exporter": "python",
   "pygments_lexer": "ipython3",
   "version": "3.5.1"
  }
 },
 "nbformat": 4,
 "nbformat_minor": 0
}
