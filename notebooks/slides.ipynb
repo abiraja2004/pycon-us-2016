{
 "cells": [
  {
   "cell_type": "raw",
   "metadata": {},
   "source": [
    "<style type=\"text/css\">\n",
    ".input_prompt, .input_area, .output_prompt {\n",
    "display:none !important;\n",
    "}\n",
    ".reveal h1, .reveal h2 {\n",
    "    font-family:times\n",
    "}\n",
    "</style>"
   ]
  },
  {
   "cell_type": "markdown",
   "metadata": {
    "slideshow": {
     "slide_type": "slide"
    }
   },
   "source": [
    "## Doing Math with Python"
   ]
  },
  {
   "cell_type": "raw",
   "metadata": {
    "slideshow": {
     "slide_type": "slide"
    }
   },
   "source": [
    "\n",
    "### A proposal\n",
    "\n",
    "- Why *I* think this is a good idea?\n"
   ]
  },
  {
   "cell_type": "raw",
   "metadata": {
    "slideshow": {
     "slide_type": "slide"
    }
   },
   "source": [
    "### Python - a scientific calculator\n",
    "\n",
    "- Python 3 is my favorite calculator (not Python 2 because by default / is an integer!)\n",
    "- BEDMAS, sin, cos, pi\n",
    "- Fahrenheit, celsius, conversion\n",
    "- Correlation, statistical measures\n",
    "(making your functions already available when Python prompt started)\n",
    "\n",
    "Set PYTHONSTARTUP to a Python file and all your functions will be available\n",
    "\n",
    "For IDLE, start with \"idle3 -s\""
   ]
  },
  {
   "cell_type": "raw",
   "metadata": {
    "slideshow": {
     "slide_type": "slide"
    }
   },
   "source": [
    "### Python - a really fancy calculator\n",
    "\n",
    "- SymPy (solving equations, plotting graphs of functions/expressions, differential and integration problems)\n",
    "- Optimization\n",
    "- SymPy + hill climbin\n",
    "- CSV data\n"
   ]
  },
  {
   "cell_type": "markdown",
   "metadata": {
    "slideshow": {
     "slide_type": "slide"
    }
   },
   "source": [
    "\n",
    "### Bringing Math (and other subjects) to Life\n",
    "\n",
    "- Create graphs and animations\n",
    "- Drawing fractals (interactive notebook)\n",
    "- Have fun: Write your own guess the correlation game\n",
    "- Anscombe's quartets\n",
    "- Why limit to Math and Science? Plotting geospatial data (basemap)\n",
    "\n",
    "\n"
   ]
  },
  {
   "cell_type": "markdown",
   "metadata": {
    "slideshow": {
     "slide_type": "slide"
    }
   },
   "source": [
    "### Perfect way to explore the future\n",
    "\n",
    "- TODO: Demo of using Gradient descent for a regression/prediction problem's solution (predict the college admission based on high school math score)\n",
    "- TODO: digit recognition using Neural networks\n",
    "  https://spin.atomicobject.com/2014/06/24/gradient-descent-linear-regression/\n",
    "- NumPy, SciPy, scikit-learn, pandas.."
   ]
  },
  {
   "cell_type": "markdown",
   "metadata": {
    "slideshow": {
     "slide_type": "slide"
    }
   },
   "source": [
    "### Links\n",
    "\n",
    "- http://www.oreilly.com/pub/e/3712\n",
    "- http://nostarch.com/doingmathwithpython"
   ]
  }
 ],
 "metadata": {
  "celltoolbar": "Slideshow",
  "kernelspec": {
   "display_name": "Python 3",
   "language": "python",
   "name": "python3"
  },
  "language_info": {
   "codemirror_mode": {
    "name": "ipython",
    "version": 3
   },
   "file_extension": ".py",
   "mimetype": "text/x-python",
   "name": "python",
   "nbconvert_exporter": "python",
   "pygments_lexer": "ipython3",
   "version": "3.4.3"
  },
  "widgets": {
   "state": {},
   "version": "1.0.0"
  }
 },
 "nbformat": 4,
 "nbformat_minor": 0
}
