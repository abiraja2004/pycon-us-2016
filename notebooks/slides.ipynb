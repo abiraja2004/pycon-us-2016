{
 "cells": [
  {
   "cell_type": "raw",
   "metadata": {
    "slideshow": {
     "slide_type": "skip"
    }
   },
   "source": [
    "<style type=\"text/css\">\n",
    ".input_prompt, .input_area, .output_prompt {\n",
    "display:none !important;\n",
    "}\n",
    ".reveal h1, .reveal h2 {\n",
    "    font-family:times\n",
    "}\n",
    "</style>"
   ]
  },
  {
   "cell_type": "markdown",
   "metadata": {
    "slideshow": {
     "slide_type": "slide"
    }
   },
   "source": [
    "# Doing Math with Python \n",
    "\n",
    "Amit Saha\n",
    "\n",
    "PyCon US 2016 Education Summit"
   ]
  },
  {
   "cell_type": "markdown",
   "metadata": {
    "slideshow": {
     "slide_type": "subslide"
    }
   },
   "source": [
    "## About me\n",
    "\n",
    "- Backend Software Engineer at Freelancer.com in Sydney, Australia\n",
    "\n",
    "- Author of \"Doing Math with Python\" (No Starch Press, 2015)\n",
    "\n",
    "- Writes for Linux Voice, Linux Journal, etc.\n",
    "\n",
    "#### Contact\n",
    "\n",
    "- Twitter: @echorand, Email: amitsaha.in@gmail.com\n",
    "- Blog: http://echorand.me\n"
   ]
  },
  {
   "cell_type": "markdown",
   "metadata": {
    "slideshow": {
     "slide_type": "slide"
    }
   },
   "source": [
    "\n",
    "# This talk \n",
    "\n",
    "### A proposal\n",
    "\n",
    "### Tools\n",
    "\n",
    "- Python 3\n",
    "- SymPy\n",
    "- matplotlib\n",
    "- Jupyter Notebook\n"
   ]
  },
  {
   "cell_type": "markdown",
   "metadata": {
    "slideshow": {
     "slide_type": "slide"
    }
   },
   "source": [
    "### Python - a scientific calculator\n",
    "\n",
    "- Python 3 is my favorite calculator (not Python 2 because 1/2 = 0)\n",
    "\n",
    "- fabs, abs, sin, cos, pi, gcd, log (See [math](https://docs.python.org/3/library/math.html))\n",
    "\n",
    "- Statistics (See [statistics](https://docs.python.org/3/library/statistics.html#module-statistics))\n",
    "\n",
    "- Develop your own functions: unit conversion, finding correlation\n",
    "\n",
    "- Use PYTHONSTARTUP to extend the battery of Python's mathematical abilities"
   ]
  },
  {
   "cell_type": "markdown",
   "metadata": {
    "slideshow": {
     "slide_type": "subslide"
    }
   },
   "source": [
    "\n",
    "```\n",
    ">>> \n",
    "```"
   ]
  },
  {
   "cell_type": "markdown",
   "metadata": {
    "slideshow": {
     "slide_type": "slide"
    }
   },
   "source": [
    "### Python - a really fancy calculator\n",
    "\n",
    "\n"
   ]
  },
  {
   "cell_type": "markdown",
   "metadata": {
    "slideshow": {
     "slide_type": "subslide"
    }
   },
   "source": [
    "#### Symbolic math\n",
    "\n",
    "*Create graphs from expressions*\n",
    "\n",
    "\n",
    "*Solve equations*\n",
    "\n",
    "```\n",
    "\n",
    "```\n",
    "\n",
    "*Limits, Derivatives and Integrals*\n",
    "```\n",
    "```\n"
   ]
  },
  {
   "cell_type": "markdown",
   "metadata": {
    "slideshow": {
     "slide_type": "fragment"
    }
   },
   "source": [
    "*Hill Climbing*\n",
    "\n",
    "Insert image"
   ]
  },
  {
   "cell_type": "markdown",
   "metadata": {
    "slideshow": {
     "slide_type": "subslide"
    }
   },
   "source": [
    "### Manipulate CSV data\n"
   ]
  },
  {
   "cell_type": "markdown",
   "metadata": {
    "slideshow": {
     "slide_type": "slide"
    }
   },
   "source": [
    "\n",
    "### Bringing Math (and other subjects) to Life\n",
    "\n",
    "- matplotlib\n",
    "\n",
    "- basemap\n",
    "\n",
    "- Interactive Jupyter Notebooks\n",
    "\n"
   ]
  },
  {
   "cell_type": "markdown",
   "metadata": {
    "slideshow": {
     "slide_type": "subslide"
    }
   },
   "source": [
    "\n",
    "#### Create graphs and animations\n",
    "\n",
    "\n"
   ]
  },
  {
   "cell_type": "markdown",
   "metadata": {
    "slideshow": {
     "slide_type": "subslide"
    }
   },
   "source": [
    "#### Drawing fractals\n",
    "\n",
    "[Barnsley Fern](Interactive Barnsley Fern.ipynb)\n",
    "\n"
   ]
  },
  {
   "cell_type": "markdown",
   "metadata": {
    "slideshow": {
     "slide_type": "subslide"
    }
   },
   "source": [
    "\n",
    "### Plotting geospatial data - the world is your graph paper"
   ]
  },
  {
   "cell_type": "markdown",
   "metadata": {
    "slideshow": {
     "slide_type": "slide"
    }
   },
   "source": [
    "### Perfect way to explore the future\n",
    "\n"
   ]
  },
  {
   "cell_type": "code",
   "execution_count": null,
   "metadata": {
    "collapsed": true
   },
   "outputs": [],
   "source": [
    "### Predict the college admission score based on high school math score\n",
    "\n"
   ]
  },
  {
   "cell_type": "code",
   "execution_count": null,
   "metadata": {
    "collapsed": true
   },
   "outputs": [],
   "source": [
    "### TODO: digit recognition using Neural networks\n",
    "\n"
   ]
  },
  {
   "cell_type": "code",
   "execution_count": null,
   "metadata": {
    "collapsed": true
   },
   "outputs": [],
   "source": [
    "### Scikitlearnd, pandas, scipy, statsmodels\n"
   ]
  },
  {
   "cell_type": "markdown",
   "metadata": {
    "slideshow": {
     "slide_type": "slide"
    }
   },
   "source": [
    "### Doing Math With Python - the book\n",
    "\n",
    "Published in 2015 by No Starch Press\n",
    "\n",
    "<img align=\"center\" src=\"dmwp-cover.png\">\n",
    "\n",
    "\n",
    "If you liked my talk, you should find the book useful\n"
   ]
  },
  {
   "cell_type": "markdown",
   "metadata": {
    "slideshow": {
     "slide_type": "slide"
    }
   },
   "source": [
    "### Links\n",
    "\n",
    "- [Doing Math with Python](http://nostarch.com/doingmathwithpython)\n",
    "- [Upcoming O'Reilly Webcast](http://www.oreilly.com/pub/e/3712)\n",
    "- [Doing Math with Python Blog](doingmathwithpython.github.io)"
   ]
  }
 ],
 "metadata": {
  "celltoolbar": "Slideshow",
  "kernelspec": {
   "display_name": "Python 3",
   "language": "python",
   "name": "python3"
  },
  "language_info": {
   "codemirror_mode": {
    "name": "ipython",
    "version": 3
   },
   "file_extension": ".py",
   "mimetype": "text/x-python",
   "name": "python",
   "nbconvert_exporter": "python",
   "pygments_lexer": "ipython3",
   "version": "3.5.1"
  },
  "widgets": {
   "state": {},
   "version": "1.0.0"
  }
 },
 "nbformat": 4,
 "nbformat_minor": 0
}
